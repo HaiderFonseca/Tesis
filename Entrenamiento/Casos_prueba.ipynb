{
 "cells": [
  {
   "cell_type": "markdown",
   "metadata": {},
   "source": [
    "### NOCHES"
   ]
  },
  {
   "cell_type": "code",
   "execution_count": 1,
   "metadata": {},
   "outputs": [],
   "source": [
    "import pandas as pd\n",
    "\n",
    "# Definir las horas de inscripción (8:00 am - 5:00 pm)\n",
    "hora_inicio_inscripcion = 8 * 60  # 8:00 am en minutos (480 minutos)\n",
    "hora_fin_inscripcion = 17 * 60  # 5:00 pm en minutos (1020 minutos)\n",
    "\n",
    "\n",
    "# Función corregida para calcular la duración en horas activas (8:00 am a 5:00 pm)\n",
    "def calcular_duration_en_horas_activas(first_enroll_time, fill_time):\n",
    "    # Definir los horarios de inicio y fin de inscripción\n",
    "    start_hour = 8\n",
    "    end_hour = 17\n",
    "\n",
    "    # Si el tiempo de llenado es antes de la inscripción, no hay tiempo válido\n",
    "    if fill_time < first_enroll_time:\n",
    "        return 0\n",
    "    \n",
    "    #############Calcular la duración en el mismo día\n",
    "    def calcular_horas_dia(dia_inicio, dia_fin):\n",
    "        # Obtener el máximo entre la hora de inicio y el horario de inicio permitido\n",
    "        inicio_efectivo = max(dia_inicio.hour + dia_inicio.minute / 60, start_hour)\n",
    "        # Obtener el mínimo entre la hora de fin y el horario de fin permitido\n",
    "        fin_efectivo = min(dia_fin.hour + dia_fin.minute / 60, end_hour)\n",
    "        # Si el horario efectivo es válido (en el rango de 8 am a 5 pm)\n",
    "        return max(0, fin_efectivo - inicio_efectivo)\n",
    "\n",
    "    total_minutes = 0\n",
    "\n",
    "    ############## Si ambos tiempos están en el mismo día ######varios diasss\n",
    "    if first_enroll_time.date() == fill_time.date():\n",
    "        total_minutes += calcular_horas_dia(first_enroll_time, fill_time) * 60\n",
    "    else:\n",
    "        # Calcular las horas para el primer día\n",
    "        first_day_end = pd.Timestamp(first_enroll_time.year, first_enroll_time.month, first_enroll_time.day, end_hour, 0, 0)\n",
    "        total_minutes += calcular_horas_dia(first_enroll_time, first_day_end) * 60\n",
    "\n",
    "        # Calcular las horas para los días intermedios\n",
    "        next_day = first_enroll_time + pd.Timedelta(days=1)\n",
    "        while next_day.date() < fill_time.date():\n",
    "            # Si el siguiente día no es fin de semana\n",
    "            if next_day.weekday() < 5:  # weekday() devuelve 0 para lunes y 4 para viernes\n",
    "                total_minutes += (end_hour - start_hour) * 60\n",
    "            next_day += pd.Timedelta(days=1)\n",
    "\n",
    "        # Calcular las horas para el último día\n",
    "        fill_day_start = pd.Timestamp(fill_time.year, fill_time.month, fill_time.day, start_hour, 0, 0)\n",
    "        total_minutes += calcular_horas_dia(fill_day_start, fill_time) * 60\n",
    "\n",
    "    return total_minutes"
   ]
  },
  {
   "cell_type": "code",
   "execution_count": 2,
   "metadata": {},
   "outputs": [
    {
     "name": "stdout",
     "output_type": "stream",
     "text": [
      "300.0\n",
      "240.0\n",
      "420.0\n",
      "540\n",
      "120.0\n",
      "1020.0\n"
     ]
    }
   ],
   "source": [
    "import pandas as pd\n",
    "\n",
    "# Caso 1: Inscripción y llenado el mismo día dentro del horario de inscripción\n",
    "# Descripción: La inscripción comienza a las 9:00 am y el curso se llena a las 2:00 pm del mismo día.\n",
    "# Expectativa: La duración es de 5 horas (300 minutos).\n",
    "first_enroll_time = pd.Timestamp(\"2024-09-10 09:00:00\")\n",
    "fill_time = pd.Timestamp(\"2024-09-10 14:00:00\")\n",
    "print(calcular_duration_en_horas_activas(first_enroll_time, fill_time))  # Esperado: 300.0 minutos\n",
    "\n",
    "\n",
    "# Caso 2: Inscripción comienza antes del horario de inscripción y se llena dentro del horario\n",
    "# Descripción: La inscripción comienza a las 7:30 am y el curso se llena a las 12:00 pm del mismo día.\n",
    "# Expectativa: Solo se cuenta desde las 8:00 am, por lo que la duración es de 4 horas (240 minutos).\n",
    "first_enroll_time = pd.Timestamp(\"2024-09-10 07:30:00\")\n",
    "fill_time = pd.Timestamp(\"2024-09-10 12:00:00\")\n",
    "print(calcular_duration_en_horas_activas(first_enroll_time, fill_time))  # Esperado: 240.0 minutos\n",
    "\n",
    "\n",
    "# Caso 3: Inscripción comienza durante el horario y se llena fuera del horario (después de las 5:00 pm)\n",
    "# Descripción: La inscripción comienza a las 10:00 am y el curso se llena a las 6:30 pm.\n",
    "# Expectativa: Solo se cuenta hasta las 5:00 pm, por lo que la duración es de 7 horas (420 minutos).\n",
    "first_enroll_time = pd.Timestamp(\"2024-09-10 10:00:00\")\n",
    "fill_time = pd.Timestamp(\"2024-09-10 18:30:00\")\n",
    "print(calcular_duration_en_horas_activas(first_enroll_time, fill_time))  # Esperado: 420.0 minutos\n",
    "\n",
    "\n",
    "# Caso 4: Inscripción comienza y se llena completamente fuera del horario (antes de las 8:00 am y después de las 5:00 pm)\n",
    "# Descripción: La inscripción comienza a las 7:00 am y el curso se llena a las 7:30 pm.\n",
    "# Expectativa: No se cuenta ningún tiempo porque ambas horas están fuera del horario de inscripción (0 minutos).\n",
    "first_enroll_time = pd.Timestamp(\"2024-09-10 07:00:00\")\n",
    "fill_time = pd.Timestamp(\"2024-09-10 19:30:00\")\n",
    "print(calcular_duration_en_horas_activas(first_enroll_time, fill_time))  # Esperado: 540 minutos\n",
    "\n",
    "\n",
    "# Caso 5: Inscripción comienza un día y se llena al día siguiente\n",
    "# Descripción: La inscripción comienza a las 4:00 pm el primer día y se llena a las 9:00 am del día siguiente.\n",
    "# Expectativa: La duración total es de 1 hora el primer día (4:00 pm a 5:00 pm) y 1 hora el segundo día (8:00 am a 9:00 am), por lo que la duración es de 2 horas (120 minutos).\n",
    "first_enroll_time = pd.Timestamp(\"2024-09-10 16:00:00\")\n",
    "fill_time = pd.Timestamp(\"2024-09-11 09:00:00\")\n",
    "print(calcular_duration_en_horas_activas(first_enroll_time, fill_time))  # Esperado: 120.0 minutos\n",
    "\n",
    "\n",
    "# Caso 6: Inscripción dura varios días, llenado dentro del horario en un día posterior\n",
    "# Descripción: La inscripción comienza a las 11:00 am del primer día y el curso se llena a las 10:00 am dos días después.\n",
    "# Expectativa: Se cuenta 6 horas el primer día (11:00 am a 5:00 pm), 9 horas el segundo día (8:00 am a 5:00 pm), y 2 horas el tercer día (8:00 am a 10:00 am), lo que da un total de 17 horas (1020 minutos).\n",
    "first_enroll_time = pd.Timestamp(\"2024-09-10 11:00:00\")\n",
    "fill_time = pd.Timestamp(\"2024-09-12 10:00:00\")\n",
    "print(calcular_duration_en_horas_activas(first_enroll_time, fill_time))  # Esperado: 1020.0 minutos\n",
    "\n",
    "\n"
   ]
  },
  {
   "cell_type": "code",
   "execution_count": 3,
   "metadata": {},
   "outputs": [
    {
     "name": "stdout",
     "output_type": "stream",
     "text": [
      "294.0\n"
     ]
    }
   ],
   "source": [
    "first_enroll_time = pd.Timestamp(\"2024-07-18 12:06:32\")\n",
    "fill_time = pd.Timestamp(\"2024-07-19 00:17:03\")\n",
    "print(calcular_duration_en_horas_activas(first_enroll_time, fill_time))  \n"
   ]
  },
  {
   "cell_type": "code",
   "execution_count": 4,
   "metadata": {},
   "outputs": [
    {
     "name": "stdout",
     "output_type": "stream",
     "text": [
      "294.0\n"
     ]
    }
   ],
   "source": [
    "import pandas as pd\n",
    "import numpy as np\n",
    "\n",
    "# Función corregida para calcular la duración en horas activas (8:00 am a 5:00 pm)\n",
    "def calcular_duration_en_horas_activas(first_enroll_time, fill_time):\n",
    "    # Definir los horarios de inicio y fin de inscripción\n",
    "    start_hour = 8\n",
    "    end_hour = 17\n",
    "\n",
    "    # Si el tiempo de llenado es antes de la inscripción, no hay tiempo válido\n",
    "    if fill_time < first_enroll_time:\n",
    "        return 0\n",
    "    \n",
    "    # Calcular la duración en el mismo día\n",
    "    def calcular_horas_dia(dia_inicio, dia_fin):\n",
    "        # Obtener el máximo entre la hora de inicio y el horario de inicio permitido\n",
    "        inicio_efectivo = max(dia_inicio.hour + dia_inicio.minute / 60, start_hour)\n",
    "        # Obtener el mínimo entre la hora de fin y el horario de fin permitido\n",
    "        fin_efectivo = min(dia_fin.hour + dia_fin.minute / 60, end_hour)\n",
    "        # Si el horario efectivo es válido (en el rango de 8 am a 5 pm)\n",
    "        return max(0, fin_efectivo - inicio_efectivo)\n",
    "\n",
    "    total_minutes = 0\n",
    "\n",
    "    # Si ambos tiempos están en el mismo día\n",
    "    if first_enroll_time.date() == fill_time.date():\n",
    "        total_minutes += calcular_horas_dia(first_enroll_time, fill_time) * 60\n",
    "    else:\n",
    "        # Calcular las horas para el primer día\n",
    "        first_day_end = pd.Timestamp(first_enroll_time.year, first_enroll_time.month, first_enroll_time.day, end_hour, 0, 0)\n",
    "        total_minutes += calcular_horas_dia(first_enroll_time, first_day_end) * 60\n",
    "\n",
    "        # Calcular las horas para los días intermedios\n",
    "        next_day = first_enroll_time + pd.Timedelta(days=1)\n",
    "        while next_day.date() < fill_time.date():\n",
    "            # Si el siguiente día no es fin de semana\n",
    "            if next_day.weekday() < 5:  # weekday() devuelve 0 para lunes y 4 para viernes\n",
    "                total_minutes += (end_hour - start_hour) * 60\n",
    "            next_day += pd.Timedelta(days=1)\n",
    "\n",
    "        # Calcular las horas para el último día\n",
    "        fill_day_start = pd.Timestamp(fill_time.year, fill_time.month, fill_time.day, start_hour, 0, 0)\n",
    "        total_minutes += calcular_horas_dia(fill_day_start, fill_time) * 60\n",
    "\n",
    "    return total_minutes\n",
    "\n",
    "\n",
    "# Caso de prueba proporcionado\n",
    "first_enroll_time = pd.Timestamp(\"2024-07-18 12:06:32\")\n",
    "fill_time = pd.Timestamp(\"2024-07-19 00:17:03\")\n",
    "print(calcular_duration_en_horas_activas(first_enroll_time, fill_time))  # Esperado: 297.0 minutos\n"
   ]
  }
 ],
 "metadata": {
  "kernelspec": {
   "display_name": "Python 3",
   "language": "python",
   "name": "python3"
  },
  "language_info": {
   "codemirror_mode": {
    "name": "ipython",
    "version": 3
   },
   "file_extension": ".py",
   "mimetype": "text/x-python",
   "name": "python",
   "nbconvert_exporter": "python",
   "pygments_lexer": "ipython3",
   "version": "3.11.7"
  }
 },
 "nbformat": 4,
 "nbformat_minor": 2
}
